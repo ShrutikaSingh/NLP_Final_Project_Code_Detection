{
  "nbformat": 4,
  "nbformat_minor": 0,
  "metadata": {
    "colab": {
      "provenance": [],
      "gpuType": "T4"
    },
    "kernelspec": {
      "name": "python3",
      "display_name": "Python 3"
    },
    "language_info": {
      "name": "python"
    },
    "accelerator": "GPU"
  },
  "cells": [
    {
      "cell_type": "code",
      "execution_count": 1,
      "metadata": {
        "colab": {
          "base_uri": "https://localhost:8080/"
        },
        "id": "s7CMNS8YsTjV",
        "outputId": "f40e6d63-dcab-401f-e1e3-cb91dd560cdc"
      },
      "outputs": [
        {
          "output_type": "stream",
          "name": "stdout",
          "text": [
            "Cloning into 'CodeBERT'...\n",
            "remote: Enumerating objects: 712, done.\u001b[K\n",
            "remote: Counting objects: 100% (213/213), done.\u001b[K\n",
            "remote: Compressing objects: 100% (61/61), done.\u001b[K\n",
            "remote: Total 712 (delta 178), reused 152 (delta 152), pack-reused 499 (from 1)\u001b[K\n",
            "Receiving objects: 100% (712/712), 72.29 MiB | 22.53 MiB/s, done.\n",
            "Resolving deltas: 100% (368/368), done.\n"
          ]
        }
      ],
      "source": [
        "!git clone https://github.com/microsoft/CodeBERT.git"
      ]
    },
    {
      "cell_type": "code",
      "source": [
        "!pip install torch transformers tree_sitter scikit-learn\n"
      ],
      "metadata": {
        "colab": {
          "base_uri": "https://localhost:8080/"
        },
        "id": "HH_xJNjrtW_L",
        "outputId": "c8201a91-4854-42ad-e3eb-96ee3273a0a0"
      },
      "execution_count": 44,
      "outputs": [
        {
          "output_type": "stream",
          "name": "stdout",
          "text": [
            "Requirement already satisfied: torch in /usr/local/lib/python3.10/dist-packages (2.5.1+cu121)\n",
            "Requirement already satisfied: transformers in /usr/local/lib/python3.10/dist-packages (4.46.2)\n",
            "Requirement already satisfied: tree_sitter in /usr/local/lib/python3.10/dist-packages (0.23.2)\n",
            "Requirement already satisfied: scikit-learn in /usr/local/lib/python3.10/dist-packages (1.5.2)\n",
            "Requirement already satisfied: filelock in /usr/local/lib/python3.10/dist-packages (from torch) (3.16.1)\n",
            "Requirement already satisfied: typing-extensions>=4.8.0 in /usr/local/lib/python3.10/dist-packages (from torch) (4.12.2)\n",
            "Requirement already satisfied: networkx in /usr/local/lib/python3.10/dist-packages (from torch) (3.4.2)\n",
            "Requirement already satisfied: jinja2 in /usr/local/lib/python3.10/dist-packages (from torch) (3.1.4)\n",
            "Requirement already satisfied: fsspec in /usr/local/lib/python3.10/dist-packages (from torch) (2024.10.0)\n",
            "Requirement already satisfied: sympy==1.13.1 in /usr/local/lib/python3.10/dist-packages (from torch) (1.13.1)\n",
            "Requirement already satisfied: mpmath<1.4,>=1.1.0 in /usr/local/lib/python3.10/dist-packages (from sympy==1.13.1->torch) (1.3.0)\n",
            "Requirement already satisfied: huggingface-hub<1.0,>=0.23.2 in /usr/local/lib/python3.10/dist-packages (from transformers) (0.26.2)\n",
            "Requirement already satisfied: numpy>=1.17 in /usr/local/lib/python3.10/dist-packages (from transformers) (1.26.4)\n",
            "Requirement already satisfied: packaging>=20.0 in /usr/local/lib/python3.10/dist-packages (from transformers) (24.2)\n",
            "Requirement already satisfied: pyyaml>=5.1 in /usr/local/lib/python3.10/dist-packages (from transformers) (6.0.2)\n",
            "Requirement already satisfied: regex!=2019.12.17 in /usr/local/lib/python3.10/dist-packages (from transformers) (2024.9.11)\n",
            "Requirement already satisfied: requests in /usr/local/lib/python3.10/dist-packages (from transformers) (2.32.3)\n",
            "Requirement already satisfied: safetensors>=0.4.1 in /usr/local/lib/python3.10/dist-packages (from transformers) (0.4.5)\n",
            "Requirement already satisfied: tokenizers<0.21,>=0.20 in /usr/local/lib/python3.10/dist-packages (from transformers) (0.20.3)\n",
            "Requirement already satisfied: tqdm>=4.27 in /usr/local/lib/python3.10/dist-packages (from transformers) (4.66.6)\n",
            "Requirement already satisfied: scipy>=1.6.0 in /usr/local/lib/python3.10/dist-packages (from scikit-learn) (1.13.1)\n",
            "Requirement already satisfied: joblib>=1.2.0 in /usr/local/lib/python3.10/dist-packages (from scikit-learn) (1.4.2)\n",
            "Requirement already satisfied: threadpoolctl>=3.1.0 in /usr/local/lib/python3.10/dist-packages (from scikit-learn) (3.5.0)\n",
            "Requirement already satisfied: MarkupSafe>=2.0 in /usr/local/lib/python3.10/dist-packages (from jinja2->torch) (3.0.2)\n",
            "Requirement already satisfied: charset-normalizer<4,>=2 in /usr/local/lib/python3.10/dist-packages (from requests->transformers) (3.4.0)\n",
            "Requirement already satisfied: idna<4,>=2.5 in /usr/local/lib/python3.10/dist-packages (from requests->transformers) (3.10)\n",
            "Requirement already satisfied: urllib3<3,>=1.21.1 in /usr/local/lib/python3.10/dist-packages (from requests->transformers) (2.2.3)\n",
            "Requirement already satisfied: certifi>=2017.4.17 in /usr/local/lib/python3.10/dist-packages (from requests->transformers) (2024.8.30)\n"
          ]
        }
      ]
    },
    {
      "cell_type": "code",
      "source": [
        "%cd /content/CodeBERT/GraphCodeBERT/clonedetection/"
      ],
      "metadata": {
        "colab": {
          "base_uri": "https://localhost:8080/"
        },
        "id": "zcLSEt07tbKW",
        "outputId": "429970cf-cd1a-40de-971a-f8f1542db839"
      },
      "execution_count": 3,
      "outputs": [
        {
          "output_type": "stream",
          "name": "stdout",
          "text": [
            "/content/CodeBERT/GraphCodeBERT/clonedetection\n"
          ]
        }
      ]
    },
    {
      "cell_type": "markdown",
      "source": [
        "UNZIP THE DATASE"
      ],
      "metadata": {
        "id": "M1nrRmNdtyDX"
      }
    },
    {
      "cell_type": "code",
      "source": [
        "!unzip dataset.zip\n"
      ],
      "metadata": {
        "colab": {
          "base_uri": "https://localhost:8080/"
        },
        "id": "0mmc8C3lt0JD",
        "outputId": "d569f815-07f5-4fff-f567-b90aa0a6f45d"
      },
      "execution_count": 4,
      "outputs": [
        {
          "output_type": "stream",
          "name": "stdout",
          "text": [
            "Archive:  dataset.zip\n",
            "   creating: dataset/\n",
            "  inflating: dataset/data.jsonl      \n",
            "  inflating: dataset/test.txt        \n",
            "  inflating: dataset/train.txt       \n",
            "  inflating: dataset/valid.txt       \n"
          ]
        }
      ]
    },
    {
      "cell_type": "code",
      "source": [
        "%cd dataset\n"
      ],
      "metadata": {
        "colab": {
          "base_uri": "https://localhost:8080/"
        },
        "id": "gwx0D-b-uHQg",
        "outputId": "e75c3944-7d58-4848-a704-18e56e9838af"
      },
      "execution_count": 5,
      "outputs": [
        {
          "output_type": "stream",
          "name": "stdout",
          "text": [
            "/content/CodeBERT/GraphCodeBERT/clonedetection/dataset\n"
          ]
        }
      ]
    },
    {
      "cell_type": "code",
      "source": [
        "%cd .."
      ],
      "metadata": {
        "colab": {
          "base_uri": "https://localhost:8080/"
        },
        "id": "ekwLDwRxu2Qy",
        "outputId": "29349604-c6fe-4434-f07d-11619f0c35ad"
      },
      "execution_count": 12,
      "outputs": [
        {
          "output_type": "stream",
          "name": "stdout",
          "text": [
            "/content/CodeBERT/GraphCodeBERT/clonedetection\n"
          ]
        }
      ]
    },
    {
      "cell_type": "code",
      "source": [
        "!python evaluator/evaluator.py -a evaluator/answers.txt -p evaluator/predictions.txt"
      ],
      "metadata": {
        "colab": {
          "base_uri": "https://localhost:8080/"
        },
        "id": "nKqYeT8Su9-R",
        "outputId": "0a67b3cc-c4c7-4e56-e783-2f12e191c746"
      },
      "execution_count": 13,
      "outputs": [
        {
          "output_type": "stream",
          "name": "stdout",
          "text": [
            "/usr/local/lib/python3.10/dist-packages/sklearn/metrics/_classification.py:1531: UndefinedMetricWarning: Recall is ill-defined and being set to 0.0 due to no true samples. Use `zero_division` parameter to control this behavior.\n",
            "  _warn_prf(average, modifier, f\"{metric.capitalize()} is\", len(result))\n",
            "{'Recall': 0.0, 'Prediction': 0.0, 'F1': 0.0}\n"
          ]
        }
      ]
    },
    {
      "cell_type": "code",
      "source": [
        "%cd parser/"
      ],
      "metadata": {
        "colab": {
          "base_uri": "https://localhost:8080/"
        },
        "id": "i80JM9NQvF8r",
        "outputId": "579e46b7-0c01-4934-8eae-c0d958265609"
      },
      "execution_count": 15,
      "outputs": [
        {
          "output_type": "stream",
          "name": "stdout",
          "text": [
            "/content/CodeBERT/GraphCodeBERT/clonedetection/parser\n"
          ]
        }
      ]
    },
    {
      "cell_type": "code",
      "source": [
        "!bash build.sh"
      ],
      "metadata": {
        "colab": {
          "base_uri": "https://localhost:8080/"
        },
        "id": "Gw1k-7Y3vO_n",
        "outputId": "dd2fed97-5cb4-4551-c774-490309980d13"
      },
      "execution_count": 16,
      "outputs": [
        {
          "output_type": "stream",
          "name": "stdout",
          "text": [
            "Cloning into 'tree-sitter-go'...\n",
            "remote: Enumerating objects: 2159, done.\u001b[K\n",
            "remote: Counting objects: 100% (2158/2158), done.\u001b[K\n",
            "remote: Compressing objects: 100% (842/842), done.\u001b[K\n",
            "remote: Total 2159 (delta 1349), reused 2021 (delta 1259), pack-reused 1 (from 1)\u001b[K\n",
            "Receiving objects: 100% (2159/2159), 9.06 MiB | 18.16 MiB/s, done.\n",
            "Resolving deltas: 100% (1349/1349), done.\n",
            "Cloning into 'tree-sitter-javascript'...\n",
            "remote: Enumerating objects: 4089, done.\u001b[K\n",
            "remote: Counting objects: 100% (1970/1970), done.\u001b[K\n",
            "remote: Compressing objects: 100% (398/398), done.\u001b[K\n",
            "remote: Total 4089 (delta 1686), reused 1680 (delta 1570), pack-reused 2119 (from 1)\u001b[K\n",
            "Receiving objects: 100% (4089/4089), 42.74 MiB | 22.49 MiB/s, done.\n",
            "Resolving deltas: 100% (2613/2613), done.\n",
            "Cloning into 'tree-sitter-python'...\n",
            "remote: Enumerating objects: 3424, done.\u001b[K\n",
            "remote: Counting objects: 100% (1601/1601), done.\u001b[K\n",
            "remote: Compressing objects: 100% (338/338), done.\u001b[K\n",
            "remote: Total 3424 (delta 1323), reused 1434 (delta 1251), pack-reused 1823 (from 1)\u001b[K\n",
            "Receiving objects: 100% (3424/3424), 22.13 MiB | 29.93 MiB/s, done.\n",
            "Resolving deltas: 100% (2103/2103), done.\n",
            "Cloning into 'tree-sitter-ruby'...\n",
            "remote: Enumerating objects: 10640, done.\u001b[K\n",
            "remote: Counting objects: 100% (1165/1165), done.\u001b[K\n",
            "remote: Compressing objects: 100% (553/553), done.\u001b[K\n",
            "remote: Total 10640 (delta 669), reused 1049 (delta 583), pack-reused 9475 (from 1)\u001b[K\n",
            "Receiving objects: 100% (10640/10640), 308.43 MiB | 15.44 MiB/s, done.\n",
            "Resolving deltas: 100% (4853/4853), done.\n",
            "Cloning into 'tree-sitter-php'...\n",
            "remote: Enumerating objects: 6939, done.\u001b[K\n",
            "remote: Counting objects: 100% (1685/1685), done.\u001b[K\n",
            "remote: Compressing objects: 100% (524/524), done.\u001b[K\n",
            "remote: Total 6939 (delta 1346), reused 1377 (delta 1159), pack-reused 5254 (from 1)\u001b[K\n",
            "Receiving objects: 100% (6939/6939), 86.24 MiB | 10.83 MiB/s, done.\n",
            "Resolving deltas: 100% (4838/4838), done.\n",
            "Cloning into 'tree-sitter-java'...\n",
            "remote: Enumerating objects: 2474, done.\u001b[K\n",
            "remote: Counting objects: 100% (934/934), done.\u001b[K\n",
            "remote: Compressing objects: 100% (268/268), done.\u001b[K\n",
            "remote: Total 2474 (delta 731), reused 794 (delta 660), pack-reused 1540 (from 1)\u001b[K\n",
            "Receiving objects: 100% (2474/2474), 15.79 MiB | 15.38 MiB/s, done.\n",
            "Resolving deltas: 100% (1474/1474), done.\n",
            "Cloning into 'tree-sitter-c-sharp'...\n",
            "remote: Enumerating objects: 3895, done.\u001b[K\n",
            "remote: Counting objects: 100% (1084/1084), done.\u001b[K\n",
            "remote: Compressing objects: 100% (213/213), done.\u001b[K\n",
            "remote: Total 3895 (delta 912), reused 979 (delta 861), pack-reused 2811 (from 1)\u001b[K\n",
            "Receiving objects: 100% (3895/3895), 118.27 MiB | 15.80 MiB/s, done.\n",
            "Resolving deltas: 100% (2805/2805), done.\n",
            "Traceback (most recent call last):\n",
            "  File \"/content/CodeBERT/GraphCodeBERT/clonedetection/parser/build.py\", line 6, in <module>\n",
            "    Language.build_library(\n",
            "AttributeError: type object 'tree_sitter.Language' has no attribute 'build_library'\n"
          ]
        }
      ]
    },
    {
      "cell_type": "code",
      "source": [
        "%cd .."
      ],
      "metadata": {
        "colab": {
          "base_uri": "https://localhost:8080/"
        },
        "id": "aTlUCUjNxHwA",
        "outputId": "8c29212c-9d3a-470e-eb28-e006d1633471"
      },
      "execution_count": 17,
      "outputs": [
        {
          "output_type": "stream",
          "name": "stdout",
          "text": [
            "/content/CodeBERT/GraphCodeBERT/clonedetection\n"
          ]
        }
      ]
    },
    {
      "cell_type": "code",
      "source": [
        "\n",
        "\n",
        "!mkdir -p ./saved_models\n",
        "!python /content/CodeBERT/GraphCodeBERT/clonedetection/run.py \\\n",
        "    --output_dir= ./saved_models \\\n",
        "    --config_name=microsoft/graphcodebert-base \\\n",
        "    --model_name_or_path=microsoft/graphcodebert-base \\\n",
        "    --tokenizer_name=microsoft/graphcodebert-base \\\n",
        "    --do_train \\\n",
        "    --train_data_file=dataset/train.txt \\\n",
        "    --eval_data_file=dataset/valid.txt \\\n",
        "    --test_data_file=dataset/test.txt \\\n",
        "    --epoch 1 \\\n",
        "    --code_length 512 \\\n",
        "    --data_flow_length 128 \\\n",
        "    --train_batch_size 16 \\\n",
        "    --eval_batch_size 32 \\\n",
        "    --learning_rate 2e-5 \\\n",
        "    --max_grad_norm 1.0 \\\n",
        "    --evaluate_during_training \\\n",
        "    --seed 123456"
      ],
      "metadata": {
        "colab": {
          "base_uri": "https://localhost:8080/"
        },
        "id": "q-e7D0RJxJN8",
        "outputId": "2fd15e14-9982-4540-dc9d-03c404f6efd9"
      },
      "execution_count": 40,
      "outputs": [
        {
          "output_type": "stream",
          "name": "stdout",
          "text": [
            "2024-11-24 11:00:31.957677: E external/local_xla/xla/stream_executor/cuda/cuda_fft.cc:485] Unable to register cuFFT factory: Attempting to register factory for plugin cuFFT when one has already been registered\n",
            "2024-11-24 11:00:31.994949: E external/local_xla/xla/stream_executor/cuda/cuda_dnn.cc:8454] Unable to register cuDNN factory: Attempting to register factory for plugin cuDNN when one has already been registered\n",
            "2024-11-24 11:00:32.005322: E external/local_xla/xla/stream_executor/cuda/cuda_blas.cc:1452] Unable to register cuBLAS factory: Attempting to register factory for plugin cuBLAS when one has already been registered\n",
            "2024-11-24 11:00:32.028483: I tensorflow/core/platform/cpu_feature_guard.cc:210] This TensorFlow binary is optimized to use available CPU instructions in performance-critical operations.\n",
            "To enable the following instructions: AVX2 FMA, in other operations, rebuild TensorFlow with the appropriate compiler flags.\n",
            "2024-11-24 11:00:33.828908: W tensorflow/compiler/tf2tensorrt/utils/py_utils.cc:38] TF-TRT Warning: Could not find TensorRT\n",
            "Traceback (most recent call last):\n",
            "  File \"/content/CodeBERT/GraphCodeBERT/clonedetection/run.py\", line 64, in <module>\n",
            "    LANGUAGE = Language('parser/my-languages.so')\n",
            "TypeError: an integer is required\n"
          ]
        }
      ]
    },
    {
      "cell_type": "code",
      "source": [],
      "metadata": {
        "colab": {
          "base_uri": "https://localhost:8080/"
        },
        "id": "fTXr9h671cRE",
        "outputId": "35bd5f57-ef6f-42c2-d4b2-041679a84be4"
      },
      "execution_count": 46,
      "outputs": [
        {
          "output_type": "stream",
          "name": "stdout",
          "text": [
            "2024-11-24 11:04:41.975927: E external/local_xla/xla/stream_executor/cuda/cuda_fft.cc:485] Unable to register cuFFT factory: Attempting to register factory for plugin cuFFT when one has already been registered\n",
            "2024-11-24 11:04:42.075798: E external/local_xla/xla/stream_executor/cuda/cuda_dnn.cc:8454] Unable to register cuDNN factory: Attempting to register factory for plugin cuDNN when one has already been registered\n",
            "2024-11-24 11:04:42.100599: E external/local_xla/xla/stream_executor/cuda/cuda_blas.cc:1452] Unable to register cuBLAS factory: Attempting to register factory for plugin cuBLAS when one has already been registered\n",
            "2024-11-24 11:04:42.123137: I tensorflow/core/platform/cpu_feature_guard.cc:210] This TensorFlow binary is optimized to use available CPU instructions in performance-critical operations.\n",
            "To enable the following instructions: AVX2 FMA, in other operations, rebuild TensorFlow with the appropriate compiler flags.\n",
            "2024-11-24 11:04:44.672492: W tensorflow/compiler/tf2tensorrt/utils/py_utils.cc:38] TF-TRT Warning: Could not find TensorRT\n",
            "Traceback (most recent call last):\n",
            "  File \"/content/CodeBERT/GraphCodeBERT/clonedetection/run.py\", line 64, in <module>\n",
            "    LANGUAGE = Language('parser/my-languages.so')\n",
            "TypeError: an integer is required\n"
          ]
        }
      ]
    },
    {
      "cell_type": "code",
      "source": [
        "!pip install tree-sitter\n"
      ],
      "metadata": {
        "colab": {
          "base_uri": "https://localhost:8080/"
        },
        "id": "cZrL7KBQ1_qM",
        "outputId": "caba8266-69b9-4462-bd2e-d8cb63434cb1"
      },
      "execution_count": 47,
      "outputs": [
        {
          "output_type": "stream",
          "name": "stdout",
          "text": [
            "Requirement already satisfied: tree-sitter in /usr/local/lib/python3.10/dist-packages (0.23.2)\n"
          ]
        }
      ]
    },
    {
      "cell_type": "code",
      "source": [
        "!python /content/CodeBERT/GraphCodeBERT/clonedetection/run.py \\\n",
        "    --output_dir= ./saved_models \\\n",
        "    --config_name=microsoft/graphcodebert-base \\\n",
        "    --model_name_or_path=microsoft/graphcodebert-base \\\n",
        "    --tokenizer_name=microsoft/graphcodebert-base \\\n",
        "    --do_train \\\n",
        "    --train_data_file=dataset/train.txt \\\n",
        "    --eval_data_file=dataset/valid.txt \\\n",
        "    --test_data_file=dataset/test.txt \\\n",
        "    --epoch 1 \\\n",
        "    --code_length 512 \\\n",
        "    --data_flow_length 128 \\\n",
        "    --train_batch_size 16 \\\n",
        "    --eval_batch_size 32 \\\n",
        "    --learning_rate 2e-5 \\\n",
        "    --max_grad_norm 1.0 \\\n",
        "    --evaluate_during_training \\\n",
        "    --seed 123456\n"
      ],
      "metadata": {
        "colab": {
          "base_uri": "https://localhost:8080/"
        },
        "id": "lMLaVsur2Feh",
        "outputId": "e6b69cf6-cc9b-4559-baa6-4b70450edde1"
      },
      "execution_count": 48,
      "outputs": [
        {
          "output_type": "stream",
          "name": "stdout",
          "text": [
            "2024-11-24 11:05:17.246363: E external/local_xla/xla/stream_executor/cuda/cuda_fft.cc:485] Unable to register cuFFT factory: Attempting to register factory for plugin cuFFT when one has already been registered\n",
            "2024-11-24 11:05:17.283266: E external/local_xla/xla/stream_executor/cuda/cuda_dnn.cc:8454] Unable to register cuDNN factory: Attempting to register factory for plugin cuDNN when one has already been registered\n",
            "2024-11-24 11:05:17.293721: E external/local_xla/xla/stream_executor/cuda/cuda_blas.cc:1452] Unable to register cuBLAS factory: Attempting to register factory for plugin cuBLAS when one has already been registered\n",
            "2024-11-24 11:05:17.316648: I tensorflow/core/platform/cpu_feature_guard.cc:210] This TensorFlow binary is optimized to use available CPU instructions in performance-critical operations.\n",
            "To enable the following instructions: AVX2 FMA, in other operations, rebuild TensorFlow with the appropriate compiler flags.\n",
            "2024-11-24 11:05:19.182095: W tensorflow/compiler/tf2tensorrt/utils/py_utils.cc:38] TF-TRT Warning: Could not find TensorRT\n",
            "Traceback (most recent call last):\n",
            "  File \"/content/CodeBERT/GraphCodeBERT/clonedetection/run.py\", line 64, in <module>\n",
            "    LANGUAGE = Language('parser/my-languages.so')\n",
            "TypeError: an integer is required\n"
          ]
        }
      ]
    },
    {
      "cell_type": "code",
      "source": [
        "!pip install tree-sitter\n",
        "!git clone https://github.com/tree-sitter/tree-sitter-python.git\n",
        "\n",
        "# Install the necessary dependencies and build the shared object\n",
        "!cd tree-sitter-python && make"
      ],
      "metadata": {
        "colab": {
          "base_uri": "https://localhost:8080/"
        },
        "id": "l4xnYJQj2Zy1",
        "outputId": "1d547fbd-168c-45d7-cd06-e01c6738de54"
      },
      "execution_count": 51,
      "outputs": [
        {
          "output_type": "stream",
          "name": "stdout",
          "text": [
            "Requirement already satisfied: tree-sitter in /usr/local/lib/python3.10/dist-packages (0.23.2)\n",
            "Cloning into 'tree-sitter-python'...\n",
            "remote: Enumerating objects: 3424, done.\u001b[K\n",
            "remote: Counting objects: 100% (1601/1601), done.\u001b[K\n",
            "remote: Compressing objects: 100% (338/338), done.\u001b[K\n",
            "remote: Total 3424 (delta 1323), reused 1434 (delta 1251), pack-reused 1823 (from 1)\u001b[K\n",
            "Receiving objects: 100% (3424/3424), 22.13 MiB | 30.29 MiB/s, done.\n",
            "Resolving deltas: 100% (2103/2103), done.\n",
            "cc -Isrc -std=c11 -fPIC   -c -o src/parser.o src/parser.c\n",
            "cc -Isrc -std=c11 -fPIC   -c -o src/scanner.o src/scanner.c\n",
            "ar rv libtree-sitter-python.a src/parser.o src/scanner.o\n",
            "ar: creating libtree-sitter-python.a\n",
            "a - src/parser.o\n",
            "a - src/scanner.o\n",
            "cc  -shared -Wl,-soname,libtree-sitter-python.so.14.0 src/parser.o src/scanner.o  -o libtree-sitter-python.so\n",
            "sed -e 's|@PROJECT_VERSION@|0.23.4|' \\\n",
            "\t-e 's|@CMAKE_INSTALL_LIBDIR@|lib|' \\\n",
            "\t-e 's|@CMAKE_INSTALL_INCLUDEDIR@|include|' \\\n",
            "\t-e 's|@PROJECT_DESCRIPTION@||' \\\n",
            "\t-e 's|@PROJECT_HOMEPAGE_URL@|https://github.com/tree-sitter/tree-sitter-python|' \\\n",
            "\t-e 's|@CMAKE_INSTALL_PREFIX@|/usr/local|' bindings/c/tree-sitter-python.pc.in > tree-sitter-python.pc\n"
          ]
        }
      ]
    },
    {
      "cell_type": "code",
      "source": [],
      "metadata": {
        "id": "Vwm5XpIO5SLC"
      },
      "execution_count": null,
      "outputs": []
    },
    {
      "cell_type": "code",
      "source": [
        "!python /content/CodeBERT/GraphCodeBERT/clonedetection/run.py \\\n",
        "    --output_dir= ./saved_models \\\n",
        "    --config_name=microsoft/graphcodebert-base \\\n",
        "    --model_name_or_path=microsoft/graphcodebert-base \\\n",
        "    --tokenizer_name=microsoft/graphcodebert-base \\\n",
        "    --do_train \\\n",
        "    --train_data_file=dataset/train.txt \\\n",
        "    --eval_data_file=dataset/valid.txt \\\n",
        "    --test_data_file=dataset/test.txt \\\n",
        "    --epoch 1 \\\n",
        "    --code_length 512 \\\n",
        "    --data_flow_length 128 \\\n",
        "    --train_batch_size 16 \\\n",
        "    --eval_batch_size 32 \\\n",
        "    --learning_rate 2e-5 \\\n",
        "    --max_grad_norm 1.0 \\\n",
        "    --evaluate_during_training \\\n",
        "    --seed 123456\n"
      ],
      "metadata": {
        "colab": {
          "base_uri": "https://localhost:8080/"
        },
        "id": "7O_5-fG13L9R",
        "outputId": "83498ffe-e31e-4e96-d58c-38a10926ddca"
      },
      "execution_count": 52,
      "outputs": [
        {
          "output_type": "stream",
          "name": "stdout",
          "text": [
            "2024-11-24 11:09:34.370773: E external/local_xla/xla/stream_executor/cuda/cuda_fft.cc:485] Unable to register cuFFT factory: Attempting to register factory for plugin cuFFT when one has already been registered\n",
            "2024-11-24 11:09:34.389685: E external/local_xla/xla/stream_executor/cuda/cuda_dnn.cc:8454] Unable to register cuDNN factory: Attempting to register factory for plugin cuDNN when one has already been registered\n",
            "2024-11-24 11:09:34.395452: E external/local_xla/xla/stream_executor/cuda/cuda_blas.cc:1452] Unable to register cuBLAS factory: Attempting to register factory for plugin cuBLAS when one has already been registered\n",
            "2024-11-24 11:09:34.409974: I tensorflow/core/platform/cpu_feature_guard.cc:210] This TensorFlow binary is optimized to use available CPU instructions in performance-critical operations.\n",
            "To enable the following instructions: AVX2 FMA, in other operations, rebuild TensorFlow with the appropriate compiler flags.\n",
            "2024-11-24 11:09:35.540019: W tensorflow/compiler/tf2tensorrt/utils/py_utils.cc:38] TF-TRT Warning: Could not find TensorRT\n",
            "Traceback (most recent call last):\n",
            "  File \"/content/CodeBERT/GraphCodeBERT/clonedetection/run.py\", line 64, in <module>\n",
            "    LANGUAGE = Language('tree-sitter-python/my-languages.so', 'python')\n",
            "TypeError: __init__() takes exactly 1 argument (2 given)\n"
          ]
        }
      ]
    },
    {
      "cell_type": "code",
      "source": [
        "!pwd"
      ],
      "metadata": {
        "colab": {
          "base_uri": "https://localhost:8080/"
        },
        "id": "20ltudWs3ScW",
        "outputId": "4c2d2fac-661f-4dd1-ca2d-c841b8b3f6dc"
      },
      "execution_count": 54,
      "outputs": [
        {
          "output_type": "stream",
          "name": "stdout",
          "text": [
            "/content/CodeBERT/GraphCodeBERT/clonedetection\n"
          ]
        }
      ]
    },
    {
      "cell_type": "code",
      "source": [
        "!cd parser/tree-sitter-python && make"
      ],
      "metadata": {
        "colab": {
          "base_uri": "https://localhost:8080/"
        },
        "id": "Q4zXRqi-3aeJ",
        "outputId": "54a61db3-7c98-443f-ae4b-dbf358615ac0"
      },
      "execution_count": 60,
      "outputs": [
        {
          "output_type": "stream",
          "name": "stdout",
          "text": [
            "cc -Isrc -std=c11 -fPIC   -c -o src/parser.o src/parser.c\n",
            "cc -Isrc -std=c11 -fPIC   -c -o src/scanner.o src/scanner.c\n",
            "ar rv libtree-sitter-python.a src/parser.o src/scanner.o\n",
            "ar: creating libtree-sitter-python.a\n",
            "a - src/parser.o\n",
            "a - src/scanner.o\n",
            "cc  -shared -Wl,-soname,libtree-sitter-python.so.14.0 src/parser.o src/scanner.o  -o libtree-sitter-python.so\n",
            "sed -e 's|@PROJECT_VERSION@|0.23.4|' \\\n",
            "\t-e 's|@CMAKE_INSTALL_LIBDIR@|lib|' \\\n",
            "\t-e 's|@CMAKE_INSTALL_INCLUDEDIR@|include|' \\\n",
            "\t-e 's|@PROJECT_DESCRIPTION@||' \\\n",
            "\t-e 's|@PROJECT_HOMEPAGE_URL@|https://github.com/tree-sitter/tree-sitter-python|' \\\n",
            "\t-e 's|@CMAKE_INSTALL_PREFIX@|/usr/local|' bindings/c/tree-sitter-python.pc.in > tree-sitter-python.pc\n"
          ]
        }
      ]
    },
    {
      "cell_type": "code",
      "source": [
        "!cd ../../"
      ],
      "metadata": {
        "id": "neVTOdZz3mLo"
      },
      "execution_count": 62,
      "outputs": []
    },
    {
      "cell_type": "code",
      "source": [
        "!python run.py \\\n",
        "    --output_dir= ./saved_models \\\n",
        "    --config_name=microsoft/graphcodebert-base \\\n",
        "    --model_name_or_path=microsoft/graphcodebert-base \\\n",
        "    --tokenizer_name=microsoft/graphcodebert-base \\\n",
        "    --do_train \\\n",
        "    --train_data_file=dataset/train.txt \\\n",
        "    --eval_data_file=dataset/valid.txt \\\n",
        "    --test_data_file=dataset/test.txt \\\n",
        "    --epoch 1 \\\n",
        "    --code_length 512 \\\n",
        "    --data_flow_length 128 \\\n",
        "    --train_batch_size 16 \\\n",
        "    --eval_batch_size 32 \\\n",
        "    --learning_rate 2e-5 \\\n",
        "    --max_grad_norm 1.0 \\\n",
        "    --evaluate_during_training \\\n",
        "    --seed 123456\n"
      ],
      "metadata": {
        "colab": {
          "base_uri": "https://localhost:8080/"
        },
        "id": "Sq_i7Jyg35BY",
        "outputId": "58a2df6d-fe2a-4b6b-dc22-0bd856e9f0b8"
      },
      "execution_count": 81,
      "outputs": [
        {
          "output_type": "stream",
          "name": "stdout",
          "text": [
            "2024-11-24 11:22:39.270725: E external/local_xla/xla/stream_executor/cuda/cuda_fft.cc:485] Unable to register cuFFT factory: Attempting to register factory for plugin cuFFT when one has already been registered\n",
            "2024-11-24 11:22:39.289820: E external/local_xla/xla/stream_executor/cuda/cuda_dnn.cc:8454] Unable to register cuDNN factory: Attempting to register factory for plugin cuDNN when one has already been registered\n",
            "2024-11-24 11:22:39.295550: E external/local_xla/xla/stream_executor/cuda/cuda_blas.cc:1452] Unable to register cuBLAS factory: Attempting to register factory for plugin cuBLAS when one has already been registered\n",
            "2024-11-24 11:22:39.309482: I tensorflow/core/platform/cpu_feature_guard.cc:210] This TensorFlow binary is optimized to use available CPU instructions in performance-critical operations.\n",
            "To enable the following instructions: AVX2 FMA, in other operations, rebuild TensorFlow with the appropriate compiler flags.\n",
            "2024-11-24 11:22:40.483424: W tensorflow/compiler/tf2tensorrt/utils/py_utils.cc:38] TF-TRT Warning: Could not find TensorRT\n",
            "Traceback (most recent call last):\n",
            "  File \"/content/CodeBERT/GraphCodeBERT/clonedetection/run.py\", line 64, in <module>\n",
            "    LANGUAGE = Language('./parser/tree-sitter-python/libtree-sitter-python.so', 'python')\n",
            "TypeError: __init__() takes exactly 1 argument (2 given)\n"
          ]
        }
      ]
    },
    {
      "cell_type": "code",
      "source": [
        "!pip install tree-sitter --upgrade\n"
      ],
      "metadata": {
        "colab": {
          "base_uri": "https://localhost:8080/"
        },
        "id": "n9DrtbMu5S9R",
        "outputId": "59a419cc-31aa-4ac0-ddf0-43960d5620bd"
      },
      "execution_count": 71,
      "outputs": [
        {
          "output_type": "stream",
          "name": "stdout",
          "text": [
            "Requirement already satisfied: tree-sitter in /usr/local/lib/python3.10/dist-packages (0.23.2)\n"
          ]
        }
      ]
    },
    {
      "cell_type": "code",
      "source": [
        "!cd parser/tree-sitter-python && make"
      ],
      "metadata": {
        "colab": {
          "base_uri": "https://localhost:8080/"
        },
        "id": "pDoK82PD5iuH",
        "outputId": "64ae66e0-3745-4f9b-fa35-5098759705c8"
      },
      "execution_count": 74,
      "outputs": [
        {
          "output_type": "stream",
          "name": "stdout",
          "text": [
            "make: Nothing to be done for 'all'.\n"
          ]
        }
      ]
    },
    {
      "cell_type": "code",
      "source": [
        "!cd tree-sitter-python && make"
      ],
      "metadata": {
        "colab": {
          "base_uri": "https://localhost:8080/"
        },
        "id": "qFz59Lzv5xol",
        "outputId": "58ffa15c-5639-4595-f232-f7042b1f5b56"
      },
      "execution_count": 80,
      "outputs": [
        {
          "output_type": "stream",
          "name": "stdout",
          "text": [
            "make: Nothing to be done for 'all'.\n"
          ]
        }
      ]
    }
  ]
}